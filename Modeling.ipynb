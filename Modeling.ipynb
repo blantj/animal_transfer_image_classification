{
 "cells": [
  {
   "cell_type": "markdown",
   "metadata": {},
   "source": [
    "# Import Libraries"
   ]
  },
  {
   "cell_type": "code",
   "execution_count": 20,
   "metadata": {},
   "outputs": [],
   "source": [
    "import os\n",
    "from keras.preprocessing.image import ImageDataGenerator\n",
    "import pandas as pd\n",
    "import matplotlib.pyplot as plt\n",
    "import seaborn as sns"
   ]
  },
  {
   "cell_type": "markdown",
   "metadata": {},
   "source": [
    "# Obtain Data & Pre-Process Data"
   ]
  },
  {
   "cell_type": "markdown",
   "metadata": {},
   "source": [
    "Determine batch size of train and test sets"
   ]
  },
  {
   "cell_type": "code",
   "execution_count": 2,
   "metadata": {},
   "outputs": [
    {
     "name": "stdout",
     "output_type": "stream",
     "text": [
      "8000\n",
      "2000\n"
     ]
    }
   ],
   "source": [
    "train_folder = 'Data/images/training_set'\n",
    "test_folder = 'Data/images/test_set'\n",
    "classes = ['cats', 'dogs']\n",
    "\n",
    "train_imgs = []\n",
    "test_imgs = []\n",
    "\n",
    "for img_class in classes:\n",
    "    train_imgs.extend([file for file in os.listdir(train_folder+'/'+img_class) if file.endswith('.jpg')])\n",
    "    test_imgs.extend([file for file in os.listdir(test_folder+'/'+img_class) if file.endswith('.jpg')])\n",
    "    \n",
    "train_batch_size = len(train_imgs)\n",
    "test_batch_size = len(test_imgs)\n",
    "\n",
    "print(train_batch_size)\n",
    "print(test_batch_size)"
   ]
  },
  {
   "cell_type": "markdown",
   "metadata": {},
   "source": [
    "Generate image data"
   ]
  },
  {
   "cell_type": "code",
   "execution_count": 4,
   "metadata": {},
   "outputs": [
    {
     "name": "stdout",
     "output_type": "stream",
     "text": [
      "Found 8000 images belonging to 2 classes.\n",
      "Found 2000 images belonging to 2 classes.\n"
     ]
    }
   ],
   "source": [
    "output_folder = 'Data/image_data'\n",
    "\n",
    "train_generator = ImageDataGenerator().flow_from_directory(\n",
    "                        train_folder, target_size=(224, 224), batch_size = train_batch_size)\n",
    "\n",
    "test_generator = ImageDataGenerator().flow_from_directory(\n",
    "                        test_folder, target_size=(224, 224), batch_size = test_batch_size) "
   ]
  },
  {
   "cell_type": "markdown",
   "metadata": {},
   "source": [
    "Split image data into image and label variables"
   ]
  },
  {
   "cell_type": "code",
   "execution_count": 6,
   "metadata": {},
   "outputs": [],
   "source": [
    "train_images, train_labels = next(train_generator)\n",
    "test_images, test_labels = next(test_generator)"
   ]
  },
  {
   "cell_type": "markdown",
   "metadata": {},
   "source": [
    "# Explore Data"
   ]
  },
  {
   "cell_type": "markdown",
   "metadata": {},
   "source": [
    "Calculate image data shape"
   ]
  },
  {
   "cell_type": "code",
   "execution_count": 9,
   "metadata": {},
   "outputs": [
    {
     "name": "stdout",
     "output_type": "stream",
     "text": [
      "Train images shape:  (8000, 224, 224, 3)\n",
      "Test images shape:  (2000, 224, 224, 3)\n"
     ]
    }
   ],
   "source": [
    "print('Train images shape: ', train_images.shape)\n",
    "print('Test images shape: ', test_images.shape)"
   ]
  },
  {
   "cell_type": "markdown",
   "metadata": {},
   "source": [
    "Calculate label data shape"
   ]
  },
  {
   "cell_type": "code",
   "execution_count": 10,
   "metadata": {},
   "outputs": [
    {
     "name": "stdout",
     "output_type": "stream",
     "text": [
      "Train labels shape:  (8000, 2)\n",
      "Test labels shape:  (2000, 2)\n"
     ]
    }
   ],
   "source": [
    "print('Train labels shape: ', train_labels.shape)\n",
    "print('Test labels shape: ', test_labels.shape)"
   ]
  },
  {
   "cell_type": "markdown",
   "metadata": {},
   "source": [
    "Calculate label class distribution"
   ]
  },
  {
   "cell_type": "code",
   "execution_count": 14,
   "metadata": {},
   "outputs": [
    {
     "name": "stdout",
     "output_type": "stream",
     "text": [
      "Train set class distribution\n",
      "0    0.5\n",
      "1    0.5\n",
      "dtype: float32\n",
      "Test set class distribution\n",
      "0    0.5\n",
      "1    0.5\n",
      "dtype: float32\n",
      "Overall class distribution\n",
      "0    0.5\n",
      "1    0.5\n",
      "dtype: float32\n"
     ]
    }
   ],
   "source": [
    "train_labels_df = pd.DataFrame(train_labels)\n",
    "test_labels_df = pd.DataFrame(test_labels)\n",
    "total_labels_df = pd.concat([train_labels_df, test_labels_df], axis=0)\n",
    "\n",
    "\n",
    "print('Train set class distribution')\n",
    "print(train_labels_df.mean())\n",
    "\n",
    "print('Test set class distribution')\n",
    "print(test_labels_df.mean())\n",
    "\n",
    "print('Overall class distribution')\n",
    "print(total_labels_df.mean())"
   ]
  },
  {
   "cell_type": "markdown",
   "metadata": {},
   "source": [
    "Plot image class distribution"
   ]
  },
  {
   "cell_type": "code",
   "execution_count": 24,
   "metadata": {},
   "outputs": [
    {
     "data": {
      "text/plain": [
       "Text(0, 0.5, 'Count')"
      ]
     },
     "execution_count": 24,
     "metadata": {},
     "output_type": "execute_result"
    },
    {
     "data": {
      "image/png": "[encoded data removed]",
      "text/plain": [
       "<Figure size 432x288 with 1 Axes>"
      ]
     },
     "metadata": {
      "needs_background": "light"
     },
     "output_type": "display_data"
    }
   ],
   "source": [
    "fig, ax = plt.subplots()\n",
    "sns.countplot(x=0, data=total_labels_df, ax=ax)\n",
    "ax.set_title('Cat and Dog Image Class Distribution', fontsize=15)\n",
    "ax.set_xticklabels(['Cats', 'Dogs'])\n",
    "ax.set_xlabel('Class')\n",
    "ax.set_ylabel('Count')"
   ]
  },
  {
   "cell_type": "markdown",
   "metadata": {},
   "source": [
    "# Model data"
   ]
  },
  {
   "cell_type": "code",
   "execution_count": null,
   "metadata": {},
   "outputs": [],
   "source": []
  }
 ],
 "metadata": {
  "kernelspec": {
   "display_name": "Python 3",
   "language": "python",
   "name": "python3"
  },
  "language_info": {
   "codemirror_mode": {
    "name": "ipython",
    "version": 3
   },
   "file_extension": ".py",
   "mimetype": "text/x-python",
   "name": "python",
   "nbconvert_exporter": "python",
   "pygments_lexer": "ipython3",
   "version": "3.7.6"
  }
 },
 "nbformat": 4,
 "nbformat_minor": 4
}
